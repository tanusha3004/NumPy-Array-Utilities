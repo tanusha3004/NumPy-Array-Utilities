{
  "nbformat": 4,
  "nbformat_minor": 0,
  "metadata": {
    "colab": {
      "provenance": [],
      "authorship_tag": "ABX9TyN1qydGeV3rEbNg3uONSOFA",
      "include_colab_link": true
    },
    "kernelspec": {
      "name": "python3",
      "display_name": "Python 3"
    },
    "language_info": {
      "name": "python"
    }
  },
  "cells": [
    {
      "cell_type": "markdown",
      "metadata": {
        "id": "view-in-github",
        "colab_type": "text"
      },
      "source": [
        "<a href=\"https://colab.research.google.com/github/tanusha3004/NumPy-Array-Utilities/blob/main/Numpy_Array_Creation_and_basic_functions_pynb.ipynb\" target=\"_parent\"><img src=\"https://colab.research.google.com/assets/colab-badge.svg\" alt=\"Open In Colab\"/></a>"
      ]
    },
    {
      "cell_type": "code",
      "execution_count": 2,
      "metadata": {
        "id": "AVb7YGDc9U9z"
      },
      "outputs": [],
      "source": [
        "import numpy as np"
      ]
    },
    {
      "cell_type": "code",
      "source": [
        "#initializing 1D array and 2D array\n",
        "a=np.array([1.1,2.1,3.2,4.2,5.3,6.3])\n",
        "a1 = np.array([[1, 2, 3, 4], [5, 6, 7, 8], [9, 10, 11, 12]])\n"
      ],
      "metadata": {
        "id": "q0HuMpfpAHOm"
      },
      "execution_count": 3,
      "outputs": []
    },
    {
      "cell_type": "markdown",
      "source": [],
      "metadata": {
        "id": "iH86YzSUD73o"
      }
    },
    {
      "cell_type": "code",
      "source": [
        "# retrieving info about array using array attributes\n",
        "print(a.shape,a.ndim,a.size,a.dtype)\n",
        "print(a1.shape,a1.ndim,a1.size,a1.dtype)\n",
        "\n",
        "# rank in numpy array is the no. of dimensions\n",
        "print(np.linalg.matrix_rank(a))\n",
        "print(np.linalg.matrix_rank(a1))"
      ],
      "metadata": {
        "colab": {
          "base_uri": "https://localhost:8080/"
        },
        "id": "VHjuMTAeAOJx",
        "outputId": "37a587a6-e808-4577-b0da-88da226d8d59"
      },
      "execution_count": 4,
      "outputs": [
        {
          "output_type": "stream",
          "name": "stdout",
          "text": [
            "(6,) 1 6 float64\n",
            "(3, 4) 2 12 int64\n",
            "1\n",
            "2\n"
          ]
        }
      ]
    },
    {
      "cell_type": "code",
      "source": [
        "# accessing elements of a Numpy array\n",
        "print(a[0])\n",
        "print(a[3:])\n",
        "print(\"\\n\")\n",
        "print(a1[0])\n",
        "print(a1[2][0])\n",
        "\n",
        "# modifying elements of a Numpy array\n",
        "# a[5]=6.36\n",
        "# print(a)"
      ],
      "metadata": {
        "colab": {
          "base_uri": "https://localhost:8080/"
        },
        "id": "_RtbKzMkBguG",
        "outputId": "c4675b5a-ed9c-4493-a4e3-67e0ebd82046"
      },
      "execution_count": 5,
      "outputs": [
        {
          "output_type": "stream",
          "name": "stdout",
          "text": [
            "1.1\n",
            "[4.2 5.3 6.3]\n",
            "\n",
            "\n",
            "[1 2 3 4]\n",
            "9\n"
          ]
        }
      ]
    },
    {
      "cell_type": "markdown",
      "source": [
        "Creation of numpy arrays using **np.array()**, **np.zeroes(), np.ones(),np.arange(),p.linspace()** and specify the datatypes explicitly if required using **dtype**"
      ],
      "metadata": {
        "id": "iwncBjiz9jVf"
      }
    },
    {
      "cell_type": "code",
      "source": [
        "arr1=np.array([1,2,3])\n",
        "zeroarr=np.zeros(2)\n",
        "onesarr=np.ones(3)\n",
        "rangearr=np.arange(11,44,11)\n",
        "linearspc=np.linspace(0,15,num=3)"
      ],
      "metadata": {
        "id": "3vj8c2tfSD1j"
      },
      "execution_count": 6,
      "outputs": []
    },
    {
      "cell_type": "code",
      "source": [
        "emptyarr=np.empty(4)\n",
        "print(emptyarr)"
      ],
      "metadata": {
        "colab": {
          "base_uri": "https://localhost:8080/"
        },
        "id": "PKz5warN-Yql",
        "outputId": "656cc867-775c-4fae-a601-a5f2cfeff9bb"
      },
      "execution_count": 14,
      "outputs": [
        {
          "output_type": "stream",
          "name": "stdout",
          "text": [
            "[4.79983259e-310 0.00000000e+000 0.00000000e+000 0.00000000e+000]\n"
          ]
        }
      ]
    },
    {
      "cell_type": "code",
      "source": [
        "\n",
        "import time\n",
        "\n",
        "# Measure the execution time for np.ones()\n",
        "start_time = time.time()\n",
        "arr_ones = np.ones(100)\n",
        "end_time = time.time()\n",
        "execution_time_ones = end_time - start_time\n",
        "print(\"Execution time for np.ones():\", execution_time_ones, \"seconds\")\n",
        "\n",
        "# Measure the execution time for np.empty()\n",
        "start_time = time.time()\n",
        "arr_empty = np.empty(3)\n",
        "end_time = time.time()\n",
        "execution_time_empty = end_time - start_time\n",
        "print(\"Execution time for np.empty():\", execution_time_empty, \"seconds\")\n",
        "\n",
        "\n",
        "# Compare execution times\n",
        "if execution_time_ones < execution_time_empty:\n",
        "    print(\"np.ones() is faster\")\n",
        "elif execution_time_ones > execution_time_empty:\n",
        "    print(\"np.empty() is faster\")\n",
        "else:\n",
        "    print(\"Execution times are approximately equal\")"
      ],
      "metadata": {
        "colab": {
          "base_uri": "https://localhost:8080/"
        },
        "id": "9lkhQrkKAYKA",
        "outputId": "00d1890d-caa3-4d87-dd69-cab00cac7fbd"
      },
      "execution_count": 7,
      "outputs": [
        {
          "output_type": "stream",
          "name": "stdout",
          "text": [
            "Execution time for np.ones(): 0.0001685619354248047 seconds\n",
            "Execution time for np.empty(): 0.00013494491577148438 seconds\n",
            "np.empty() is faster\n"
          ]
        }
      ]
    },
    {
      "cell_type": "code",
      "source": [
        "# 1D array vs 2D array\n",
        "array1 = np.array([5, 6])\n",
        "array2 = np.array([[5, 6]])# think of it as a single row matrix[[a,b]]\n",
        "\n",
        "print(\"Array 1 shape:\", array1.shape)  # Output: (2,)-> 2 elements\n",
        "print(\"Array 2 shape:\", array2.shape)  # Output: (1, 2)-> 2 dimensions, 1 row, 2 col"
      ],
      "metadata": {
        "colab": {
          "base_uri": "https://localhost:8080/"
        },
        "id": "Ocrm82MaJU4c",
        "outputId": "faed3bd4-091c-4c16-8b41-342f6e05498e"
      },
      "execution_count": 8,
      "outputs": [
        {
          "output_type": "stream",
          "name": "stdout",
          "text": [
            "Array 1 shape: (2,)\n",
            "Array 2 shape: (1, 2)\n"
          ]
        }
      ]
    },
    {
      "cell_type": "markdown",
      "source": [
        "np.concatenate((a,b)) and np.sort(a)"
      ],
      "metadata": {
        "id": "1VoUCoBfFEAS"
      }
    },
    {
      "cell_type": "code",
      "source": [
        "#np.concatenate((a1, a2, ...), axis=0, out=None, dtype=None, casting=\"same_kind\")\n",
        "x = np.array([[1, 2], [3, 4]])\n",
        "print(x.shape)\n",
        "y = np.array([[5, 6]])\n",
        "print(y.shape)\n",
        "print(np.concatenate((x,y),axis=0))\n",
        "\n",
        "#np.sort()\n",
        "arr=np.array([2,8,4,6,5,3,1,7])\n",
        "print(arr.sort)\n"
      ],
      "metadata": {
        "colab": {
          "base_uri": "https://localhost:8080/"
        },
        "id": "xVWA8adfFbRl",
        "outputId": "95c477fc-a114-4e7c-b36e-dd1ed6f5cac2"
      },
      "execution_count": 9,
      "outputs": [
        {
          "output_type": "stream",
          "name": "stdout",
          "text": [
            "(2, 2)\n",
            "(1, 2)\n",
            "[[1 2]\n",
            " [3 4]\n",
            " [5 6]]\n",
            "<built-in method sort of numpy.ndarray object at 0x783924526490>\n"
          ]
        }
      ]
    }
  ]
}